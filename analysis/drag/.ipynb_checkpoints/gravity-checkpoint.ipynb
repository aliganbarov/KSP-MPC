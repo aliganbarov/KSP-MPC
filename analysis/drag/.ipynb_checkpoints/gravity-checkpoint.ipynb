{
 "cells": [
  {
   "cell_type": "code",
   "execution_count": 1,
   "metadata": {},
   "outputs": [],
   "source": [
    "import krpc\n",
    "import time\n",
    "import math\n",
    "import numpy as np"
   ]
  },
  {
   "cell_type": "code",
   "execution_count": 5,
   "metadata": {},
   "outputs": [
    {
     "ename": "NameError",
     "evalue": "name 'TGT_ALT' is not defined",
     "output_type": "error",
     "traceback": [
      "\u001b[1;31m---------------------------------------------------------------------------\u001b[0m",
      "\u001b[1;31mNameError\u001b[0m                                 Traceback (most recent call last)",
      "\u001b[1;32m<ipython-input-5-193d9bed2936>\u001b[0m in \u001b[0;36m<module>\u001b[1;34m\u001b[0m\n\u001b[0;32m     34\u001b[0m     \u001b[0mthrottle\u001b[0m \u001b[1;33m=\u001b[0m \u001b[0mK_C\u001b[0m \u001b[1;33m+\u001b[0m \u001b[0mK_P\u001b[0m \u001b[1;33m*\u001b[0m \u001b[0mproportion\u001b[0m \u001b[1;33m+\u001b[0m \u001b[0mK_I\u001b[0m \u001b[1;33m*\u001b[0m \u001b[0mintegral\u001b[0m \u001b[1;33m+\u001b[0m \u001b[0mK_D\u001b[0m \u001b[1;33m*\u001b[0m \u001b[0mdifferential\u001b[0m\u001b[1;33m\u001b[0m\u001b[1;33m\u001b[0m\u001b[0m\n\u001b[0;32m     35\u001b[0m     \u001b[0mvessel\u001b[0m\u001b[1;33m.\u001b[0m\u001b[0mcontrol\u001b[0m\u001b[1;33m.\u001b[0m\u001b[0mthrottle\u001b[0m \u001b[1;33m=\u001b[0m \u001b[0mthrottle\u001b[0m\u001b[1;33m\u001b[0m\u001b[1;33m\u001b[0m\u001b[0m\n\u001b[1;32m---> 36\u001b[1;33m     \u001b[0mprev_err\u001b[0m\u001b[1;33m.\u001b[0m\u001b[0mappend\u001b[0m\u001b[1;33m(\u001b[0m\u001b[0maltitude\u001b[0m\u001b[1;33m(\u001b[0m\u001b[1;33m)\u001b[0m \u001b[1;33m-\u001b[0m \u001b[0mTGT_ALT\u001b[0m\u001b[1;33m)\u001b[0m\u001b[1;33m\u001b[0m\u001b[1;33m\u001b[0m\u001b[0m\n\u001b[0m\u001b[0;32m     37\u001b[0m     \u001b[1;32mif\u001b[0m \u001b[0mlen\u001b[0m\u001b[1;33m(\u001b[0m\u001b[0mprev_err\u001b[0m\u001b[1;33m)\u001b[0m \u001b[1;33m>\u001b[0m \u001b[1;36m1\u001b[0m \u001b[1;33m/\u001b[0m \u001b[0mRATE\u001b[0m\u001b[1;33m:\u001b[0m\u001b[1;33m\u001b[0m\u001b[1;33m\u001b[0m\u001b[0m\n\u001b[0;32m     38\u001b[0m         \u001b[0mprev_err\u001b[0m \u001b[1;33m=\u001b[0m \u001b[0mprev_err\u001b[0m\u001b[1;33m[\u001b[0m\u001b[1;36m1\u001b[0m\u001b[1;33m:\u001b[0m\u001b[1;33m]\u001b[0m\u001b[1;33m\u001b[0m\u001b[1;33m\u001b[0m\u001b[0m\n",
      "\u001b[1;31mNameError\u001b[0m: name 'TGT_ALT' is not defined"
     ]
    }
   ],
   "source": [
    "conn = krpc.connect(name = \"Gravity\")\n",
    "vessel = conn.space_center.active_vessel\n",
    "\n",
    "G = conn.space_center.g\n",
    "M = 5.2915158e22\n",
    "g = 9.81\n",
    "R = 600000\n",
    "m = vessel.mass\n",
    "\n",
    "# PID constants\n",
    "K_C = 0.25\n",
    "K_P = -0.03\n",
    "K_I = 0.01\n",
    "K_D = -5.5\n",
    "\n",
    "altitude = conn.add_stream(getattr, vessel.flight(), 'surface_altitude')\n",
    "thrust = conn.add_stream(getattr, vessel, 'thrust')\n",
    "drag = conn.add_stream(getattr, vessel.flight(), 'drag')\n",
    "vessel.control.throttle = 100\n",
    "vessel.control.activate_next_stage()\n",
    "RATE = 0.1\n",
    "prev_err = []\n",
    "prev_alt = altitude()\n",
    "\n",
    "while True:\n",
    "    vessel.auto_pilot.target_direction = (1, 0, 0)\n",
    "    weight = (G * M * m) / (R + altitude()) ** 2\n",
    "    F_net = thrust() - drag()[0] - weight\n",
    "    \n",
    "    integral = sum(prev_err) * RATE\n",
    "    proportion = altitude() - 200\n",
    "    differential = (altitude() - prev_alt) * RATE\n",
    "    \n",
    "    throttle = K_C + K_P * proportion + K_I * integral + K_D * differential\n",
    "    vessel.control.throttle = throttle\n",
    "    prev_err.append(altitude() - 200)\n",
    "    if len(prev_err) > 1 / RATE:\n",
    "        prev_err = prev_err[1:]\n",
    "    prev_alt = altitude()\n",
    "    time.sleep(RATE)"
   ]
  },
  {
   "cell_type": "code",
   "execution_count": null,
   "metadata": {},
   "outputs": [],
   "source": []
  }
 ],
 "metadata": {
  "kernelspec": {
   "display_name": "Python 3",
   "language": "python",
   "name": "python3"
  },
  "language_info": {
   "codemirror_mode": {
    "name": "ipython",
    "version": 3
   },
   "file_extension": ".py",
   "mimetype": "text/x-python",
   "name": "python",
   "nbconvert_exporter": "python",
   "pygments_lexer": "ipython3",
   "version": "3.6.9"
  }
 },
 "nbformat": 4,
 "nbformat_minor": 2
}
